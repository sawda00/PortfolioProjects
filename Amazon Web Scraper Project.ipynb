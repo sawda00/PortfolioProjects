{
 "cells": [
  {
   "cell_type": "code",
   "execution_count": 1,
   "id": "70253ef9",
   "metadata": {},
   "outputs": [],
   "source": [
    "# Import libraries\n",
    "\n",
    "\n",
    "from bs4 import BeautifulSoup\n",
    "import requests\n",
    "import smtplib\n",
    "import time\n",
    "import datetime\n"
   ]
  },
  {
   "cell_type": "code",
   "execution_count": 33,
   "id": "5e90d428",
   "metadata": {},
   "outputs": [
    {
     "name": "stdout",
     "output_type": "stream",
     "text": [
      "\n",
      "                   Data Ninja - Data Geek - Big Data Analysts Gift T-Shirt\n",
      "                  \n",
      "\n",
      "                  £16.99\n",
      "                 \n"
     ]
    }
   ],
   "source": [
    "# Connect to website\n",
    "\n",
    "\n",
    "URL = 'https://www.amazon.co.uk/Data-Ninja-Geek-Analysts-T-Shirt/dp/B07Y8Z4SF8/ref=sr_1_7?crid=3BAUKCXUYYTG8&keywords=data%2Banalyst%2Bshirt&qid=1654370214&s=clothing&sprefix=data%2Banalyst%2Bshirt%2Cclothing%2C242&sr=1-7&customId=B07536XX75&th=1'\n",
    "\n",
    "headers = {\"User-Agent\": \"Mozilla/5.0 (Macintosh; Intel Mac OS X 10_15_7) AppleWebKit/537.36 (KHTML, like Gecko) Chrome/102.0.5005.61 Safari/537.36\"}\n",
    "\n",
    "page = requests.get(URL, headers = headers)\n",
    "\n",
    "soup1 = BeautifulSoup(page.content, 'html.parser')\n",
    "\n",
    "soup2 = BeautifulSoup(soup1.prettify(),'html.parser')\n",
    "\n",
    "title = soup2.find(id = 'productTitle').get_text()\n",
    "\n",
    "price = soup2.find('span', 'a-offscreen').get_text()\n",
    "\n",
    "print(title)\n",
    "\n",
    "print(price)\n"
   ]
  },
  {
   "cell_type": "code",
   "execution_count": 35,
   "id": "9e60adea",
   "metadata": {},
   "outputs": [
    {
     "name": "stdout",
     "output_type": "stream",
     "text": [
      "Data Ninja - Data Geek - Big Data Analysts Gift T-Shirt\n",
      "16.99\n"
     ]
    }
   ],
   "source": [
    "# Clean up the data a little bit\n",
    "\n",
    "\n",
    "title = title.strip()\n",
    "\n",
    "price = price.strip()[1:]\n",
    "\n",
    "\n",
    "print(title)\n",
    "\n",
    "print(price)\n"
   ]
  },
  {
   "cell_type": "code",
   "execution_count": 52,
   "id": "f495ac4c",
   "metadata": {},
   "outputs": [
    {
     "name": "stdout",
     "output_type": "stream",
     "text": [
      "2022-05-01\n"
     ]
    }
   ],
   "source": [
    "# Create a Timestamp for your output to track when data was collected\n",
    "\n",
    "import datetime\n",
    "\n",
    "today = datetime.date.today()\n",
    "\n",
    "print(today)"
   ]
  },
  {
   "cell_type": "code",
   "execution_count": 53,
   "id": "fcb0b6e7",
   "metadata": {},
   "outputs": [],
   "source": [
    "# Create CSV and write headers and data into the file\n",
    "\n",
    "import csv\n",
    "\n",
    "header = ['Title', 'Price', 'Date'] \n",
    "\n",
    "data = [title, price, today]\n",
    "\n",
    "with open('AmazonData.csv', 'w', newline = '', encoding = 'UTF8') as f:\n",
    "    writer = csv.writer(f)\n",
    "    writer.writerow(header)\n",
    "    writer.writerow(data)"
   ]
  },
  {
   "cell_type": "code",
   "execution_count": 56,
   "id": "b7dce667",
   "metadata": {},
   "outputs": [
    {
     "name": "stdout",
     "output_type": "stream",
     "text": [
      "                                               Title  Price        Date\n",
      "0  Data Ninja - Data Geek - Big Data Analysts Gif...  16.99  2022-05-01\n",
      "1  Data Ninja - Data Geek - Big Data Analysts Gif...  16.99  2022-05-01\n"
     ]
    }
   ],
   "source": [
    "import pandas as pd\n",
    "\n",
    "df = pd.read_csv('/Users/sawda/Projects/Portfolio project python/AmazonData.csv')\n",
    "\n",
    "print(df)"
   ]
  },
  {
   "cell_type": "code",
   "execution_count": 55,
   "id": "4466aa75",
   "metadata": {},
   "outputs": [],
   "source": [
    "# Appending data to the csv\n",
    "\n",
    "with open('AmazonData.csv', 'a+', newline = '', encoding = 'UTF8') as f:\n",
    "    writer = csv.writer(f)\n",
    "    writer.writerow(data)"
   ]
  },
  {
   "cell_type": "code",
   "execution_count": 57,
   "id": "c7d60f11",
   "metadata": {},
   "outputs": [],
   "source": [
    "# Make the appending data process automated so no need to run the code everyday\n",
    "\n",
    "def check_price():\n",
    "    \n",
    "    URL = 'https://www.amazon.co.uk/Data-Ninja-Geek-Analysts-T-Shirt/dp/B07Y8Z4SF8/ref=sr_1_7?crid=3BAUKCXUYYTG8&keywords=data%2Banalyst%2Bshirt&qid=1654370214&s=clothing&sprefix=data%2Banalyst%2Bshirt%2Cclothing%2C242&sr=1-7&customId=B07536XX75&th=1'\n",
    "\n",
    "    headers = {\"User-Agent\": \"Mozilla/5.0 (Macintosh; Intel Mac OS X 10_15_7) AppleWebKit/537.36 (KHTML, like Gecko) Chrome/102.0.5005.61 Safari/537.36\"}\n",
    "\n",
    "    page = requests.get(URL, headers = headers)\n",
    "\n",
    "    soup1 = BeautifulSoup(page.content, 'html.parser')\n",
    "\n",
    "    soup2 = BeautifulSoup(soup1.prettify(),'html.parser')\n",
    "\n",
    "    title = soup2.find(id = 'productTitle').get_text()\n",
    "\n",
    "    price = soup2.find('span', 'a-offscreen').get_text()\n",
    "\n",
    "    title = title.strip()\n",
    "\n",
    "    price = price.strip()[1:]\n",
    "\n",
    "    import datetime\n",
    "\n",
    "    today = datetime.date.today()\n",
    "\n",
    "    import csv\n",
    "\n",
    "    header = ['Title', 'Price', 'Date'] \n",
    "\n",
    "    data = [title, price, today]\n",
    "\n",
    "    with open('AmazonData.csv', 'a+', newline = '', encoding = 'UTF8') as f:\n",
    "        writer = csv.writer(f)\n",
    "        writer.writerow(data)\n",
    "        "
   ]
  },
  {
   "cell_type": "code",
   "execution_count": null,
   "id": "72a7b129",
   "metadata": {},
   "outputs": [],
   "source": [
    "while(True):\n",
    "    check_price()\n",
    "    time.sleep(86400)"
   ]
  },
  {
   "cell_type": "code",
   "execution_count": 59,
   "id": "ff02866e",
   "metadata": {},
   "outputs": [
    {
     "name": "stdout",
     "output_type": "stream",
     "text": [
      "                                               Title  Price        Date\n",
      "0  Data Ninja - Data Geek - Big Data Analysts Gif...  16.99  2022-05-01\n",
      "1  Data Ninja - Data Geek - Big Data Analysts Gif...  16.99  2022-05-01\n",
      "2  Data Ninja - Data Geek - Big Data Analysts Gif...  16.99  2022-06-05\n",
      "3  Data Ninja - Data Geek - Big Data Analysts Gif...  16.99  2022-06-05\n",
      "4  Data Ninja - Data Geek - Big Data Analysts Gif...  16.99  2022-06-05\n",
      "5  Data Ninja - Data Geek - Big Data Analysts Gif...  16.99  2022-06-05\n"
     ]
    }
   ],
   "source": [
    "import pandas as pd\n",
    "\n",
    "df = pd.read_csv('/Users/sawda/Projects/Portfolio project python/AmazonData.csv')\n",
    "\n",
    "print(df)"
   ]
  }
 ],
 "metadata": {
  "kernelspec": {
   "display_name": "Python 3 (ipykernel)",
   "language": "python",
   "name": "python3"
  },
  "language_info": {
   "codemirror_mode": {
    "name": "ipython",
    "version": 3
   },
   "file_extension": ".py",
   "mimetype": "text/x-python",
   "name": "python",
   "nbconvert_exporter": "python",
   "pygments_lexer": "ipython3",
   "version": "3.9.12"
  }
 },
 "nbformat": 4,
 "nbformat_minor": 5
}
